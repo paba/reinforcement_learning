{
 "cells": [
  {
   "cell_type": "markdown",
   "metadata": {},
   "source": [
    "This tutorial is about implementing reinfocement learning using the reinforcement learning package in the pybrain library. We beleive that you have already installed the required libraries: scipy, numpy, matplotlib, and pylab. \n",
    "If these libraries are installed, we are good to go. \n",
    "\n",
    "First we will go through a reinforcement learning example already provided in pybrain. This is a very popular MDP example. We have setup a jupyter notebook that walks you through the maze example. \n",
    "\n",
    "See the Maze example: localhost:8888/notebooks/maze_search_with_reinforcement_learning.ipynb\n",
    "\n",
    "Try the Maze example. Next we are going to apply reinforcement learning to a HCI problem -- Menu search. We will edit the enviroment, reward, and actions of the maze example to implement the menu search in two scenarios: \n",
    "1. when the user is only allowed to move sequentially \n",
    "2. when the user could jump"
   ]
  },
  {
   "cell_type": "code",
   "execution_count": null,
   "metadata": {
    "collapsed": true
   },
   "outputs": [],
   "source": []
  }
 ],
 "metadata": {
  "kernelspec": {
   "display_name": "Python 2",
   "language": "python",
   "name": "python2"
  },
  "language_info": {
   "codemirror_mode": {
    "name": "ipython",
    "version": 2
   },
   "file_extension": ".py",
   "mimetype": "text/x-python",
   "name": "python",
   "nbconvert_exporter": "python",
   "pygments_lexer": "ipython2",
   "version": "2.7.6"
  }
 },
 "nbformat": 4,
 "nbformat_minor": 0
}
