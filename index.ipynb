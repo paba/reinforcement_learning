{
 "cells": [
  {
   "cell_type": "markdown",
   "metadata": {},
   "source": [
    "This tutorial walks you through a reinforcement learning example implemented with pybrain. \n",
    "The first step is to import some general packages and the RL components from PyBrain\n"
   ]
  },
  {
   "cell_type": "code",
   "execution_count": 1,
   "metadata": {
    "collapsed": true
   },
   "outputs": [],
   "source": [
    "\"\"\" This example demonstrates how to use the discrete Temporal Difference\n",
    "Reinforcement Learning algorithms (SARSA, Q, Q(lambda)) in a classical\n",
    "fully observable MDP maze task. The goal point is the top right free\n",
    "field. \"\"\"\n",
    "from scipy import *\n",
    "import sys, time\n",
    "import pylab\n",
    "\n",
    "#from pybrain.rl.environments.mazes import Maze, MDPMazeTask\n",
    "from maze import Maze\n",
    "from mdp import MDPMazeTask\n",
    "from pybrain.rl.learners.valuebased import ActionValueTable\n",
    "from pybrain.rl.agents import LearningAgent\n",
    "from pybrain.rl.learners import Q, QLambda, SARSA #@UnusedImport\n",
    "from pybrain.rl.explorers import BoltzmannExplorer #@UnusedImport\n",
    "from pybrain.rl.experiments import Experiment\n",
    "from pybrain.rl.environments import Task"
   ]
  },
  {
   "cell_type": "code",
   "execution_count": null,
   "metadata": {
    "collapsed": true
   },
   "outputs": [],
   "source": []
  },
  {
   "cell_type": "code",
   "execution_count": null,
   "metadata": {
    "collapsed": true
   },
   "outputs": [],
   "source": []
  },
  {
   "cell_type": "code",
   "execution_count": null,
   "metadata": {
    "collapsed": true
   },
   "outputs": [],
   "source": []
  }
 ],
 "metadata": {
  "kernelspec": {
   "display_name": "Python 2",
   "language": "python",
   "name": "python2"
  },
  "language_info": {
   "codemirror_mode": {
    "name": "ipython",
    "version": 2
   },
   "file_extension": ".py",
   "mimetype": "text/x-python",
   "name": "python",
   "nbconvert_exporter": "python",
   "pygments_lexer": "ipython2",
   "version": "2.7.6"
  }
 },
 "nbformat": 4,
 "nbformat_minor": 0
}
